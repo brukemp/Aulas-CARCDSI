{
  "nbformat": 4,
  "nbformat_minor": 0,
  "metadata": {
    "colab": {
      "provenance": [],
      "include_colab_link": true
    },
    "kernelspec": {
      "name": "python3",
      "display_name": "Python 3"
    },
    "language_info": {
      "name": "python"
    }
  },
  "cells": [
    {
      "cell_type": "markdown",
      "metadata": {
        "id": "view-in-github",
        "colab_type": "text"
      },
      "source": [
        "<a href=\"https://colab.research.google.com/github/brukemp/Aulas-CARCDSI/blob/main/machine_learning.ipynb\" target=\"_parent\"><img src=\"https://colab.research.google.com/assets/colab-badge.svg\" alt=\"Open In Colab\"/></a>"
      ]
    },
    {
      "cell_type": "code",
      "execution_count": null,
      "metadata": {
        "id": "0meENzpGPsb3"
      },
      "outputs": [],
      "source": [
        "import pandas as pd\n",
        "from sklearn.neighbors import KNeighborsClassifier"
      ]
    },
    {
      "cell_type": "code",
      "source": [
        "from google.colab import drive\n",
        "drive.mount('/content/drive')"
      ],
      "metadata": {
        "colab": {
          "base_uri": "https://localhost:8080/"
        },
        "id": "Q6fGAhmhQGGf",
        "outputId": "42ad40c8-e263-4222-9866-249e1ac8ba41"
      },
      "execution_count": null,
      "outputs": [
        {
          "output_type": "stream",
          "name": "stdout",
          "text": [
            "Drive already mounted at /content/drive; to attempt to forcibly remount, call drive.mount(\"/content/drive\", force_remount=True).\n"
          ]
        }
      ]
    },
    {
      "cell_type": "code",
      "source": [
        "flags = pd.read_csv(\"/content/drive/MyDrive/ADS/DataScience/Source/flags_final.csv\")"
      ],
      "metadata": {
        "id": "v3VAIjSlQMIX"
      },
      "execution_count": null,
      "outputs": []
    },
    {
      "cell_type": "code",
      "source": [
        "#-------------------------------------------------\n",
        "# Configurar os parametros e variaveis auxiliares\n",
        "#-------------------------------------------------\n",
        "\n",
        "# Valor de k a ser usado no k-NN\n",
        "k = 3\n",
        "\n",
        "# Nomes dos labels das classes\n",
        "labels = ['red', 'green', 'blue', 'gold', 'white', 'black', 'orange']\n",
        "\n",
        "# numero de labels\n",
        "q = len(labels)\n",
        "\n",
        "# Numero de reistros da base e treinamento\n",
        "N = flags.shape[0]\n",
        "\n",
        "# Cria um Classiicador com o algoritmo k-NN\n",
        "# e faz a estimativa do desempenho preditivo\n",
        "# com o metodo LOO (leave one out)\n",
        "\n",
        "# for j: laço que percirre caa rotulo de classe\n",
        "for j in range(0, q):\n",
        "    print('----------------------------')\n",
        "    print('Processando o Rotulo ', labels[j])\n",
        "    # instancia uma matrz do confusão para o rótulo j\n",
        "    mc = pd.DataFrame({'predito_nao': [0,0],\n",
        "                       'predito_sim': [0,0]}, index=['real_nao', 'real_sim'])\n",
        "\n",
        "\n",
        "    # Divide a base de treinamento verticalmente\n",
        "    # em duas partes: X (atributos preitivos) e\n",
        "    # y (atributos classes)\n",
        "    X = flags.drop(columns=labels)\n",
        "    Y = flags[labels[j]]\n",
        "    # for i: laço que realiza o LOO para o rotulo j\n",
        "    for i in range(0, N):\n",
        "      # cria conjunto de trainamento\n",
        "      X_treino = X.drop([i])\n",
        "      Y_treino = Y.drop([i])\n",
        "      # cria conjunto de teste\n",
        "      X_teste = X.iloc[[i],:]\n",
        "      Y_teste = Y.iloc[[i]]\n",
        "      # Treinamento do modelo k-NN com os dados e treino\n",
        "      modelo = KNeighborsClassifier(n_neighbors=k)\n",
        "      modelo.fit(X_treino, Y_treino)\n",
        "      # Testes do modelo k-nn\n",
        "      pred = modelo.predict(X_teste)[0]\n",
        "      # Aualiza a matriz de conusao\n",
        "      if (Y_teste.iloc[0]==0):\n",
        "        if(pred == 0):\n",
        "          mc.loc['real_nao', 'predito_nao'] += 1\n",
        "        if (pred == 1):\n",
        "          mc.loc['real_nao', 'predito_sim'] += 1\n",
        "      else:\n",
        "        if (pred == 0):\n",
        "          mc.loc['real_sim', 'predito_nao'] += 1\n",
        "        if (pred == 1):\n",
        "          mc.loc['real_sim', 'predito_sim'] += 1\n",
        "\n",
        "    # Fim do LOO para o\n",
        "    print(mc)\n",
        "    acuracia = (mc.loc['real_sim', 'predito_sim'] + mc.loc['real_nao', 'predito_nao'])/N\n",
        "    print('Acuracia: ', acuracia)"
      ],
      "metadata": {
        "id": "45D7tZnaQNeg",
        "colab": {
          "base_uri": "https://localhost:8080/"
        },
        "outputId": "eb378482-d89a-493a-fc58-d8d077c0aea5"
      },
      "execution_count": null,
      "outputs": [
        {
          "output_type": "stream",
          "name": "stdout",
          "text": [
            "----------------------------\n",
            "Processando o Rotulo  red\n",
            "          predito_nao  predito_sim\n",
            "real_nao           20           21\n",
            "real_sim           22          131\n",
            "Acuracia:  0.7783505154639175\n",
            "----------------------------\n",
            "Processando o Rotulo  green\n",
            "          predito_nao  predito_sim\n",
            "real_nao           88           15\n",
            "real_sim           17           74\n",
            "Acuracia:  0.8350515463917526\n",
            "----------------------------\n",
            "Processando o Rotulo  blue\n",
            "          predito_nao  predito_sim\n",
            "real_nao           64           31\n",
            "real_sim           28           71\n",
            "Acuracia:  0.6958762886597938\n",
            "----------------------------\n",
            "Processando o Rotulo  gold\n",
            "          predito_nao  predito_sim\n",
            "real_nao           81           22\n",
            "real_sim           37           54\n",
            "Acuracia:  0.6958762886597938\n",
            "----------------------------\n",
            "Processando o Rotulo  white\n",
            "          predito_nao  predito_sim\n",
            "real_nao           18           30\n",
            "real_sim           24          122\n",
            "Acuracia:  0.7216494845360825\n",
            "----------------------------\n",
            "Processando o Rotulo  black\n",
            "          predito_nao  predito_sim\n",
            "real_nao          125           17\n",
            "real_sim           28           24\n",
            "Acuracia:  0.7680412371134021\n",
            "----------------------------\n",
            "Processando o Rotulo  orange\n",
            "          predito_nao  predito_sim\n",
            "real_nao          163            5\n",
            "real_sim           20            6\n",
            "Acuracia:  0.8711340206185567\n"
          ]
        }
      ]
    }
  ]
}