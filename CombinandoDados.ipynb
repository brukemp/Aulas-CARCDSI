{
  "nbformat": 4,
  "nbformat_minor": 0,
  "metadata": {
    "colab": {
      "provenance": [],
      "authorship_tag": "ABX9TyMqWh1q1zop5Dv1wRalgort",
      "include_colab_link": true
    },
    "kernelspec": {
      "name": "python3",
      "display_name": "Python 3"
    },
    "language_info": {
      "name": "python"
    }
  },
  "cells": [
    {
      "cell_type": "markdown",
      "metadata": {
        "id": "view-in-github",
        "colab_type": "text"
      },
      "source": [
        "<a href=\"https://colab.research.google.com/github/brukemp/Aulas-CARCDSI/blob/main/CombinandoDados.ipynb\" target=\"_parent\"><img src=\"https://colab.research.google.com/assets/colab-badge.svg\" alt=\"Open In Colab\"/></a>"
      ]
    },
    {
      "cell_type": "code",
      "execution_count": 1,
      "metadata": {
        "colab": {
          "base_uri": "https://localhost:8080/"
        },
        "id": "-I8cW3JNrqx-",
        "outputId": "84c3763e-2538-4109-a046-93edf3ecf2d1"
      },
      "outputs": [
        {
          "output_type": "stream",
          "name": "stdout",
          "text": [
            "  loja  dia  valor\n",
            "0    A  sex   7500\n",
            "1    A  sab   9500\n",
            "2    A  dom   8200\n",
            "3    B  sex   5100\n",
            "4    B  sab   8250\n",
            "5    B  dom   9900\n",
            "6    C  sab   7500\n",
            "7    C  dom  11800\n"
          ]
        }
      ],
      "source": [
        "import pandas as pd\n",
        "\n",
        "lojaA = pd.DataFrame({\"loja\": [\"A\",\"A\",\"A\"],\n",
        "                    \"dia\": [\"sex\", \"sab\", \"dom\"],\n",
        "                    \"valor\": [7500, 9500, 8200]}\n",
        "                    )\n",
        "lojaB = pd.DataFrame({\"loja\": [\"B\",\"B\",\"B\"],\n",
        "                      \"dia\": [\"sex\", \"sab\", \"dom\"],\n",
        "                      \"valor\": [5100, 8250, 9900]}\n",
        "                      )\n",
        "\n",
        "lojaC = pd.DataFrame({\"loja\": [\"C\",\"C\"],\n",
        "                    \"dia\": [\"sab\", \"dom\"],\n",
        "                    \"valor\": [7500, 11800]}\n",
        "                    )\n",
        "lojaABC = pd.concat([lojaA, lojaB, lojaC], ignore_index=True)\n",
        "print(lojaABC)"
      ]
    },
    {
      "cell_type": "code",
      "source": [
        "import pandas as pd\n",
        "\n",
        "d1 = pd.DataFrame({\"carro\": [\"Hyundai\", \"Renault\", \"Fiat\"]})\n",
        "d2 = pd.DataFrame({\"animal\":[\"Capivara\", \"Bem-ti-vi\"]})\n",
        "\n",
        "d3 = pd.concat([d1,d2], ignore_index=True, sort=False)\n",
        "print(d3)"
      ],
      "metadata": {
        "colab": {
          "base_uri": "https://localhost:8080/"
        },
        "id": "UePZaCK-1-DN",
        "outputId": "2e962b4b-806f-414c-b2ac-93717c7692a7"
      },
      "execution_count": 2,
      "outputs": [
        {
          "output_type": "stream",
          "name": "stdout",
          "text": [
            "     carro     animal\n",
            "0  Hyundai        NaN\n",
            "1  Renault        NaN\n",
            "2     Fiat        NaN\n",
            "3      NaN   Capivara\n",
            "4      NaN  Bem-ti-vi\n"
          ]
        }
      ]
    },
    {
      "cell_type": "code",
      "source": [
        "import pandas as pd\n",
        "\n",
        "df_sql = pd.DataFrame({\"email\": [\"elza.=_peixoto@astconsult.com.br\", \"carlos_pires@piscinasegura.com.br\"]})\n",
        "\n",
        "df_python = pd.DataFrame({\"email\": [\"elza.=_peixoto@astconsult.com.br\", \"roberto_moreira@gruporeis.net\", \"alice.nicole.barbosa@bb.com.br\"]})\n",
        "\n",
        "\n",
        "# União (relação de emails distintos)\n",
        "alunos = pd.concat([df_sql, df_python], ignore_index=True)\n",
        "alunos = alunos.drop_duplicates()\n",
        "\n",
        "# Interseção (quem fez ambos os cursos)\n",
        "sql_e_python = df_sql.merge(df_python)\n",
        "\n",
        "# Diferença (quem fez só SQL e fez só Python)\n",
        "so_sql = df_sql[df_sql.email.isin(df_python.email)==False]\n",
        "so_python = df_python[df_python.email.isin(df_sql.email)==False]\n",
        "\n",
        "print(\"Alunos Distintos: \\n\", alunos)\n",
        "print(\"Alunos que fizeram SQL e Python: \\n\", sql_e_python)\n",
        "print(\"Alunos que fizeram apenas SQL:\\n\", so_sql)\n",
        "print(\"Alunos que fizeram apenas Python:\\n\", so_python)"
      ],
      "metadata": {
        "colab": {
          "base_uri": "https://localhost:8080/"
        },
        "id": "6C7qdKnA2Ft2",
        "outputId": "4ee9d28e-2528-41a6-e9bb-68456a2451a8"
      },
      "execution_count": 3,
      "outputs": [
        {
          "output_type": "stream",
          "name": "stdout",
          "text": [
            "Alunos Distintos: \n",
            "                                email\n",
            "0   elza.=_peixoto@astconsult.com.br\n",
            "1  carlos_pires@piscinasegura.com.br\n",
            "3      roberto_moreira@gruporeis.net\n",
            "4     alice.nicole.barbosa@bb.com.br\n",
            "Alunos que fizeram SQL e Python: \n",
            "                               email\n",
            "0  elza.=_peixoto@astconsult.com.br\n",
            "Alunos que fizeram apenas SQL:\n",
            "                                email\n",
            "1  carlos_pires@piscinasegura.com.br\n",
            "Alunos que fizeram apenas Python:\n",
            "                             email\n",
            "1   roberto_moreira@gruporeis.net\n",
            "2  alice.nicole.barbosa@bb.com.br\n"
          ]
        }
      ]
    },
    {
      "cell_type": "code",
      "source": [
        "import pandas as pd\n",
        "from google.colab import drive\n",
        "drive.mount('/content/drive')"
      ],
      "metadata": {
        "colab": {
          "base_uri": "https://localhost:8080/"
        },
        "id": "0ZYSiW6PONfV",
        "outputId": "6a1029b1-6ef6-482c-8992-07c6cd1e8bb1"
      },
      "execution_count": 4,
      "outputs": [
        {
          "output_type": "stream",
          "name": "stdout",
          "text": [
            "Mounted at /content/drive\n"
          ]
        }
      ]
    },
    {
      "cell_type": "code",
      "source": [
        "# importando os dados\n",
        "flags = pd.read_csv(\"/content/drive/MyDrive/CARCDSI/MaterialApoio/flags.csv\")\n",
        "countries = pd.read_csv(\"/content/drive/MyDrive/CARCDSI/MaterialApoio/countries.csv\")\n",
        "\n",
        "num_linhas_flags = flags.shape[0]\n",
        "num_linhas_countries = countries.shape[0]\n",
        "\n",
        "# Junção interna: países comuns a ambas as bases\n",
        "ambas = pd.merge(flags, countries, how=\"left\", left_on=\"name\", right_on=\"country\")\n",
        "num_linhas_ambas = ambas.shape[0]\n",
        "\n",
        "# Left Join: países apenas em flags\n",
        "so_flags = pd.merge(flags, countries, how=\"right\", left_on=\"name\", right_on=\"country\")\n",
        "so_lags = so_flags[pd.isnull(so_flags[\"country\"])==True]\n",
        "num_linhas_so_flags = so_flags.shape[0]\n",
        "\n",
        "# Right Join: países apenas em countries\n",
        "so_countries = pd.merge(flags, countries, how=\"right\", left_on=\"name\", right_on=\"country\")\n",
        "so_countries = so_countries[pd.isnull(so_countries[\"country\"])==True]\n",
        "num_linhas_so_countries = so_countries.shape[0]\n",
        "\n",
        "print(\"Número de países em flags: \", num_linhas_flags)\n",
        "print(\"Número de linhas em countries: \", num_linhas_countries)\n",
        "print(\"Número de linhas em ambas as bases: \", num_linhas_ambas)\n",
        "print(\"Número de países apenas em flags: \", num_linhas_so_flags)\n",
        "print(\"Número de países apenas em countries: \", num_linhas_so_countries)"
      ],
      "metadata": {
        "colab": {
          "base_uri": "https://localhost:8080/"
        },
        "id": "zDdFYaXUOYhj",
        "outputId": "94e08092-a67c-4b34-9949-d4340faf9459"
      },
      "execution_count": 5,
      "outputs": [
        {
          "output_type": "stream",
          "name": "stdout",
          "text": [
            "Número de países em flags:  194\n",
            "Número de linhas em countries:  227\n",
            "Número de linhas em ambas as bases:  194\n",
            "Número de países apenas em flags:  227\n",
            "Número de países apenas em countries:  0\n"
          ]
        }
      ]
    }
  ]
}