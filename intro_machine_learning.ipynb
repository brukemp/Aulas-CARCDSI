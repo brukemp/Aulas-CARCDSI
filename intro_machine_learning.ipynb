{
  "nbformat": 4,
  "nbformat_minor": 0,
  "metadata": {
    "colab": {
      "provenance": [],
      "authorship_tag": "ABX9TyO9dRVB3II3TEkHJzi8QQqP",
      "include_colab_link": true
    },
    "kernelspec": {
      "name": "python3",
      "display_name": "Python 3"
    },
    "language_info": {
      "name": "python"
    }
  },
  "cells": [
    {
      "cell_type": "markdown",
      "metadata": {
        "id": "view-in-github",
        "colab_type": "text"
      },
      "source": [
        "<a href=\"https://colab.research.google.com/github/brukemp/Aulas-CARCDSI/blob/main/intro_machine_learning.ipynb\" target=\"_parent\"><img src=\"https://colab.research.google.com/assets/colab-badge.svg\" alt=\"Open In Colab\"/></a>"
      ]
    },
    {
      "cell_type": "code",
      "execution_count": 1,
      "metadata": {
        "id": "h593c0bJFDnC"
      },
      "outputs": [],
      "source": [
        "import pandas as pd"
      ]
    },
    {
      "cell_type": "code",
      "source": [
        "from google.colab import drive\n",
        "drive.mount('/content/drive')"
      ],
      "metadata": {
        "colab": {
          "base_uri": "https://localhost:8080/"
        },
        "id": "8Ogy_nZwFXM8",
        "outputId": "93d417a7-0cbe-4c99-8962-cf879bb6396c"
      },
      "execution_count": 2,
      "outputs": [
        {
          "output_type": "stream",
          "name": "stdout",
          "text": [
            "Mounted at /content/drive\n"
          ]
        }
      ]
    },
    {
      "cell_type": "code",
      "source": [
        "flags = pd.read_csv('/content/drive/MyDrive/CARCDSI/MaterialApoio/flags.csv')"
      ],
      "metadata": {
        "id": "Kd_phPIzFbYk"
      },
      "execution_count": 3,
      "outputs": []
    },
    {
      "cell_type": "code",
      "source": [
        "# Step 1\n",
        "# Conversão dos atributos do grupo 2\n",
        "# de categoricos não binarios\n",
        "# para caegoricos binarios\n",
        "\n",
        "\n",
        "for c in flags.columns:\n",
        "  if c in ['landmass', 'zone', 'language', 'religion', 'mainhue', 'topleft', 'botright']:\n",
        "    dummies = pd.get_dummies(flags[c], prefix=c)\n",
        "    flags = flags.join(dummies)\n",
        "\n",
        "# step 2\n",
        "# normalzação dos atributos do grupo 3 e 4 de numero continuos e discretos para numeros com valores na faixa entre 0 e 1\n",
        "\n",
        "for c in flags.columns:\n",
        "  if c in ['area', 'population', 'bars', 'stripes', 'colours', 'circles', 'crosses', 'saltires', 'quarters', 'sunstars']:\n",
        "    c_max = max(flags[c])\n",
        "    c_min = min(flags[c])\n",
        "    flags[c] = (flags[c] - c_min) / (c_max - c_min)\n",
        "\n",
        "\n",
        "#step 3\n",
        "# exclusao dos atributos indesejados\n",
        "flags = flags.drop(columns=['landmass', 'zone', 'language', 'religion', 'mainhue', 'topleft', 'botright', 'name'])\n",
        "\n",
        "\n",
        "# step 4\n",
        "# imprimir a configuração final de flags"
      ],
      "metadata": {
        "id": "-RrL79NdFsj_"
      },
      "execution_count": 4,
      "outputs": []
    },
    {
      "cell_type": "code",
      "source": [
        "flags.to_csv('/content/drive/MyDrive/CARCDSI/MaterialApoio/flags_final.csv', index=False)"
      ],
      "metadata": {
        "id": "_3LB6tCsFy_u"
      },
      "execution_count": 5,
      "outputs": []
    }
  ]
}